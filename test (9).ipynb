{
 "cells": [
  {
   "cell_type": "code",
   "execution_count": null,
   "id": "initial_id",
   "metadata": {
    "collapsed": true
   },
   "outputs": [],
   "source": [
    "import pandas as pd\n",
    "from fbprophet import Prophet\n",
    "import matplotlib.pyplot as plt\n",
    "\n",
    "# Load the data\n",
    "df = pd.read_csv('1727098302.380757.312974069.csv')\n",
    "\n",
    "# Handle missing values\n",
    "df.dropna(subset=['Date online', 'Capacity_kt H2/y'], inplace=True)\n",
    "\n",
    "# Convert 'Date online' to datetime\n",
    "df['Date online'] = pd.to_datetime(df['Date online'], format='%Y')\n",
    "\n",
    "# Extract year from 'Date online'\n",
    "df['Year online'] = df['Date online'].dt.year\n",
    "\n",
    "# Aggregate capacity by year\n",
    "annual_capacity = df.groupby('Year online')['Capacity_kt H2/y'].sum().reset_index()\n",
    "\n",
    "# Rename columns to meet Prophet's requirements\n",
    "annual_capacity.rename(columns={'Year online': 'ds', 'Capacity_kt H2/y': 'y'}, inplace=True)\n",
    "\n",
    "# Initialize the model\n",
    "model = Prophet()\n",
    "\n",
    "# Fit the model\n",
    "model.fit(annual_capacity)\n",
    "\n",
    "# Create future dataframe\n",
    "future = model.make_future_dataframe(periods=10, freq='Y')\n",
    "\n",
    "# Forecast the future capacity\n",
    "forecast = model.predict(future)\n",
    "\n",
    "# Plot the forecast\n",
    "fig, ax = plt.subplots(figsize=(10, 6))\n",
    "model.plot(forecast, ax=ax)\n",
    "plt.xlabel('Year')\n",
    "plt.ylabel('Global Hydrogen Production Capacity (kt H2/y)')\n",
    "plt.title('Forecast of Global Hydrogen Production Capacity')\n",
    "plt.show()\n"
   ]
  }
 ],
 "metadata": {
  "kernelspec": {
   "display_name": "Python 3",
   "language": "python",
   "name": "python3"
  },
  "language_info": {
   "codemirror_mode": {
    "name": "ipython",
    "version": 2
   },
   "file_extension": ".py",
   "mimetype": "text/x-python",
   "name": "python",
   "nbconvert_exporter": "python",
   "pygments_lexer": "ipython2",
   "version": "2.7.6"
  }
 },
 "nbformat": 4,
 "nbformat_minor": 5
}
